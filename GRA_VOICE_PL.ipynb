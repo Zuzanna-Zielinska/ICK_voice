{
 "cells": [
  {
   "cell_type": "code",
   "execution_count": null,
   "id": "256db3ea",
   "metadata": {},
   "outputs": [],
   "source": [
    "#!pip3 install vosk\n",
    "#!pip install pyaudio"
   ]
  },
  {
   "cell_type": "code",
   "execution_count": 11,
   "id": "a768c24d",
   "metadata": {
    "scrolled": true
   },
   "outputs": [
    {
     "name": "stdout",
     "output_type": "stream",
     "text": [
      "wolniej\n",
      "szybciej\n",
      "mniejsze\n",
      "większe\n",
      "reset\n",
      "mnożenie\n",
      "przenieś\n",
      "stop\n"
     ]
    }
   ],
   "source": [
    "from vosk import Model, KaldiRecognizer\n",
    "import pyaudio\n",
    "    \n",
    "model = Model(r\"C:\\\\Users\\\\kstal\\\\Downloads\\\\vosk-model-small-pl-0.22\")\n",
    "recognizer = KaldiRecognizer(model, 16000)\n",
    "    \n",
    "mic = pyaudio.PyAudio()\n",
    "stream = mic.open(format=pyaudio.paInt16, channels=1, rate=16000, input=True, frames_per_buffer=8192)\n",
    "stream.start_stream()\n",
    "    \n",
    "while True:\n",
    "    data = stream.read(4096)\n",
    "        \n",
    "    if recognizer.AcceptWaveform(data):\n",
    "        text = recognizer.Result()\n",
    "        if text[14:-3] == \"start\":\n",
    "            print(\"start\")\n",
    "        elif text[14:-3] == \"wolniej\":\n",
    "            print(\"wolniej\") #PRĘDKOŚĆ PIŁKI: 1-  wolniej o 10%\n",
    "        elif text[14:-3] == \"szybciej\":\n",
    "            print(\"szybciej\")#PRĘDKOŚĆ PIŁKI: 2-  szybciej o 10%\n",
    "        elif text[14:-3] == \"mniejsze\":\n",
    "            print(\"mniejsze\") #POLE GRY 1 - zmniejszenie wysokości pola o 10%    \n",
    "        elif text[14:-3] == \"większe\":\n",
    "            print(\"większe\")  #POLE GRY 2 - zwiększenie wysokości pola o 10%\n",
    "        elif text[14:-3] == \"reset\":\n",
    "            print(\"reset\") # TABLICA WYNIKÓW - 1 - reset wyniku\n",
    "        elif text[14:-3] == \"mnożenie\":\n",
    "            print(\"mnożenie\") # TABLICA WYNIKÓW - 2 - mnożnik bramek \n",
    "        elif text[14:-3] == \"przenieś\":\n",
    "            print(\"przenieś\") # TELEPORTACJA PIŁKI - oczekiwane wartości położenia docelowego \n",
    "        elif text[14:-3] == (\"stop\"):\n",
    "            print(\"stop\")\n",
    "            break;\n",
    "        else:\n",
    "            print(\"Bad instruction\")\n",
    "            print(f\"' {text[14:-3]} '\")"
   ]
  }
 ],
 "metadata": {
  "kernelspec": {
   "display_name": "Python 3 (ipykernel)",
   "language": "python",
   "name": "python3"
  },
  "language_info": {
   "codemirror_mode": {
    "name": "ipython",
    "version": 3
   },
   "file_extension": ".py",
   "mimetype": "text/x-python",
   "name": "python",
   "nbconvert_exporter": "python",
   "pygments_lexer": "ipython3",
   "version": "3.10.9"
  }
 },
 "nbformat": 4,
 "nbformat_minor": 5
}
