{
 "cells": [
  {
   "cell_type": "code",
   "execution_count": 1,
   "id": "0c531b5d",
   "metadata": {},
   "outputs": [],
   "source": [
    "#!pip3 install vosk\n",
    "#!pip install pyaudio"
   ]
  },
  {
   "cell_type": "code",
   "execution_count": 15,
   "id": "f76024f6",
   "metadata": {},
   "outputs": [
    {
     "name": "stdout",
     "output_type": "stream",
     "text": [
      "Hello\n",
      "Bad instruction\n",
      "' slower '\n",
      "Fast\n",
      "Bad instruction\n",
      "' lower '\n",
      "Bad instruction\n",
      "' lower '\n",
      "Bad instruction\n",
      "' no '\n",
      "Hello\n",
      "Multiply\n",
      "Bad instruction\n",
      "' restart '\n",
      "Bad instruction\n",
      "'  '\n",
      "stop\n"
     ]
    }
   ],
   "source": [
    "from vosk import Model, KaldiRecognizer\n",
    "import pyaudio\n",
    "    \n",
    "model = Model(r\"C:\\\\Users\\\\kstal\\\\Downloads\\\\vosk-model-small-en-us-0.15\")\n",
    "recognizer = KaldiRecognizer(model, 16000)\n",
    "    \n",
    "mic = pyaudio.PyAudio()\n",
    "stream = mic.open(format=pyaudio.paInt16, channels=1, rate=16000, input=True, frames_per_buffer=8192)\n",
    "stream.start_stream()\n",
    "    \n",
    "while True:\n",
    "    data = stream.read(4096)\n",
    "        \n",
    "    if recognizer.AcceptWaveform(data):\n",
    "        text = recognizer.Result()\n",
    "        if text[14:-3] == \"hello\":\n",
    "            print(\"Hello\")\n",
    "        elif text[14:-3] == \"slow\":\n",
    "            print(\"Slow\")\n",
    "        elif text[14:-3] == \"fast\":\n",
    "            print(\"Fast\")\n",
    "        elif text[14:-3] == \"low\":\n",
    "            print(\"Low\")\n",
    "        elif text[14:-3] == \"high\":\n",
    "            print(\"High\")\n",
    "        elif text[14:-3] == \"reset\":\n",
    "            print(\"Reset\")\n",
    "        elif text[14:-3] == \"multiply\":\n",
    "            print(\"Multiply\")\n",
    "        elif text[14:-3] == \"teleport\":\n",
    "            print(\"Teleport\")\n",
    "        elif text[14:-3] == (\"stop\"):\n",
    "            print(\"stop\")\n",
    "            break;\n",
    "        else:\n",
    "            print(\"Bad instruction\")\n",
    "            print(f\"' {text[14:-3]} '\")"
   ]
  },
  {
   "cell_type": "code",
   "execution_count": 7,
   "id": "aafcfc52",
   "metadata": {},
   "outputs": [],
   "source": [
    "#ssss"
   ]
  },
  {
   "cell_type": "code",
   "execution_count": null,
   "id": "a768c24d",
   "metadata": {},
   "outputs": [],
   "source": []
  }
 ],
 "metadata": {
  "kernelspec": {
   "display_name": "Python 3 (ipykernel)",
   "language": "python",
   "name": "python3"
  },
  "language_info": {
   "codemirror_mode": {
    "name": "ipython",
    "version": 3
   },
   "file_extension": ".py",
   "mimetype": "text/x-python",
   "name": "python",
   "nbconvert_exporter": "python",
   "pygments_lexer": "ipython3",
   "version": "3.10.9"
  }
 },
 "nbformat": 4,
 "nbformat_minor": 5
}
